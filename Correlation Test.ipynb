{
 "cells": [
  {
   "cell_type": "code",
   "execution_count": 1,
   "id": "a4803139",
   "metadata": {},
   "outputs": [
    {
     "name": "stderr",
     "output_type": "stream",
     "text": [
      "WARNING: Wireshark is installed, but cannot read manuf !\n"
     ]
    }
   ],
   "source": [
    "from statistics import mean\n",
    "from typing import List, Tuple, Any\n",
    "import numpy as np\n",
    "import pandas as pd\n",
    "from scapy.layers.dot11 import Dot11, RadioTap\n",
    "from scapy.utils import PcapReader\n",
    "\n",
    "PacketSet = List[Tuple[Any, Any, Dot11]]"
   ]
  },
  {
   "cell_type": "code",
   "execution_count": 2,
   "id": "1bfcd2c7",
   "metadata": {},
   "outputs": [],
   "source": [
    "def read_from_pcap(path: str, bpf_filter: str= \"\") -> PacketSet:\n",
    "    \"\"\"\n",
    "    This function reads the .pcap file and applies the BPF filter given in input.\n",
    "\n",
    "    :param path: Path of the .pcap file to extract.\n",
    "    :param bpf_filter: BPF filter to apply to the .pcap file.\n",
    "    :return: List of filtered packets.\n",
    "    \"\"\"\n",
    "    packet_stream = []\n",
    "    with PcapReader(filename=path) as pcap_reader:\n",
    "        for pkt in pcap_reader:\n",
    "            dot11_packet = len(pkt), pkt.time, pkt\n",
    "            packet_stream.append(dot11_packet)\n",
    "    return packet_stream\n",
    "\n",
    "\n",
    "def dot11_to_feature(pkt: Dot11) -> np.ndarray:\n",
    "    \"\"\"\n",
    "    This function returns a numpy ndarray that contains an encoding of the most important features of the 802.11 frame.\n",
    "    The features are the following:\n",
    "     * Source MAC Address (addr2).\n",
    "     * Destination MAC Address (addr1).\n",
    "     * Duration field (ID).\n",
    "\n",
    "    :param Dot11 pkt: the packet to process.\n",
    "    :return: The ndarray that encodes the extracted features of the input packet.\n",
    "    \"\"\"\n",
    "    return np.array([pkt.addr2, pkt.addr1, pkt.ID])\n",
    "\n",
    "\n",
    "def feature_expansion_raw(pkt_list: PacketSet) -> pd.DataFrame:\n",
    "    \"\"\"\n",
    "    This function extract the main features from each packet's Wi-Fi header and collects everything into a Pandas\n",
    "    DataFrame.\n",
    "    :param pkt_list: List of the filtered packets from the .pcap file.\n",
    "    :return: Pandas Dataframe of each packet and their main features.\n",
    "    \"\"\"\n",
    "    pkt_length = list(map(lambda pkt, *_,: pkt[0], pkt_list))\n",
    "    x = list(map(lambda *pkt: dot11_to_feature(pkt[0][2]), pkt_list))\n",
    "    timestamps = list(map(lambda *t: t[0][1], pkt_list))\n",
    "    pd_x = pd.DataFrame(x, columns=[\"SourceAddress\", \"DestinationAddress\", \"Duration\"])\n",
    "    pd_x.loc[:, \"Duration\"] = pd_x.loc[:, \"Duration\"].astype(int)\n",
    "    pd_x.loc[:, \"PacketLength\"] = pd.Series(pkt_length, dtype=int)\n",
    "    pd_x.loc[:, \"Timestamp\"] = pd.Series(timestamps, dtype=float)\n",
    "    pd_x.loc[:, \"TimestampOffset\"] = pd_x[\"Timestamp\"] - pd_x[\"Timestamp\"].min()\n",
    "    return pd_x"
   ]
  },
  {
   "cell_type": "code",
   "execution_count": 5,
   "id": "a0cb9ba4",
   "metadata": {},
   "outputs": [],
   "source": [
    "path = \"WIFI_tests/captures/\"\n",
    "captures_files_normal = [path+\"capture_test-11.cap\"]\n",
    "captures = [read_from_pcap(path=f) for f in captures_files_normal]\n",
    "captures_pd_normal = list(map(lambda x: feature_expansion_raw(x), captures))\n",
    "captures_pd_normal = pd.concat([captures_pd_normal], axis=0)\n",
    "captures_pd_normal.loc[:, \"Anomaly\"] = 0"
   ]
  },
  {
   "cell_type": "code",
   "execution_count": 6,
   "id": "4fe9018d",
   "metadata": {},
   "outputs": [
    {
     "data": {
      "text/plain": [
       "[Empty DataFrame\n",
       " Columns: [SourceAddress, DestinationAddress, Duration, PacketLength, Timestamp, TimestampOffset]\n",
       " Index: []]"
      ]
     },
     "execution_count": 6,
     "metadata": {},
     "output_type": "execute_result"
    }
   ],
   "source": [
    "captures_pd_normal"
   ]
  },
  {
   "cell_type": "code",
   "execution_count": null,
   "id": "8e88df24",
   "metadata": {},
   "outputs": [],
   "source": [
    "captures_files_anomaly = [path+\"capture_test-13.cap\"]\n",
    "captures = [read_from_pcap(path=f) for f in captures_files_anomalyl]\n",
    "captures_pd_anomaly = list(map(lambda x: feature_expansion_raw(x), captures))\n",
    "captures_pd_anomaly = pd.concat([captures_pd_anomaly], axis=0)\n",
    "captures_pd_anomaly.loc[:, \"Anomaly\"] = 1"
   ]
  },
  {
   "cell_type": "code",
   "execution_count": null,
   "id": "cefb69a1",
   "metadata": {},
   "outputs": [],
   "source": [
    "captures_pd_anomaly"
   ]
  },
  {
   "cell_type": "code",
   "execution_count": null,
   "id": "9df736d7",
   "metadata": {},
   "outputs": [],
   "source": [
    "captures_pd = pd.concat([captures_pd_normal,captures_pd_anomaly], axis=0)"
   ]
  },
  {
   "cell_type": "code",
   "execution_count": null,
   "id": "ac14d69d",
   "metadata": {},
   "outputs": [],
   "source": [
    "sns.pairplot(captures_pd, hue=\"Anomaly\")"
   ]
  }
 ],
 "metadata": {
  "kernelspec": {
   "display_name": "Python 3 (ipykernel)",
   "language": "python",
   "name": "python3"
  },
  "language_info": {
   "codemirror_mode": {
    "name": "ipython",
    "version": 3
   },
   "file_extension": ".py",
   "mimetype": "text/x-python",
   "name": "python",
   "nbconvert_exporter": "python",
   "pygments_lexer": "ipython3",
   "version": "3.9.12"
  }
 },
 "nbformat": 4,
 "nbformat_minor": 5
}
